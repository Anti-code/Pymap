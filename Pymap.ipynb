{
 "cells": [
  {
   "cell_type": "code",
   "execution_count": 2,
   "metadata": {
    "collapsed": false
   },
   "outputs": [
    {
     "data": {
      "text/html": [
       "<style>\n",
       "table {float:left}\n",
       "</style>"
      ],
      "text/plain": [
       "<IPython.core.display.HTML object>"
      ]
     },
     "metadata": {},
     "output_type": "display_data"
    }
   ],
   "source": [
    "%%html\n",
    "<style>\n",
    "table {float:left}\n",
    "</style>"
   ]
  },
  {
   "cell_type": "markdown",
   "metadata": {},
   "source": [
    "### Gerekli modüller\n",
    "\n",
    "|Modül adı|Kullanım alanı\n",
    "|-----------------\n",
    "|nmap| Ağ analizi\n",
    "|pandas | Veri işleme\n",
    "|subprocess | Sistem\n",
    "|sqlite3 | SQL Veritabanı Modülü\n",
    "|pymongo| NoSQL Veritabanı Modülü\n",
    "|io  | Veri Giriş/Çıkış\n",
    "|bson.code| MapReduce Kodlama Modülü\n"
   ]
  },
  {
   "cell_type": "markdown",
   "metadata": {
    "collapsed": true
   },
   "source": [
    "### Modüllerin Kurulumu\n",
    "~~~\n",
    "Öncelikle sanal bir ortam oluşturmanız tavsiye edilir.\n",
    "mkdir pyedu\n",
    "cd pyedu\n",
    "virtualenv env -p python3\n",
    "source env/bin/activate\n",
    "pip3 install -r requirements.txt\n",
    "sudo apt-get install mongodb-org\n",
    "sudo service mongod start\n",
    "~~~"
   ]
  },
  {
   "cell_type": "code",
   "execution_count": 3,
   "metadata": {
    "collapsed": false
   },
   "outputs": [],
   "source": [
    "import nmap, pandas, subprocess, sqlite3\n",
    "from io import StringIO\n",
    "from bson.code import Code\n",
    "%matplotlib inline"
   ]
  },
  {
   "cell_type": "markdown",
   "metadata": {},
   "source": [
    "### Ağ bilgisi\n",
    "~~~\n",
    "Ağda aldığımız IPyi çektik kullanarak bağlı olduğumuz ağın IP türünü öğrendik\n",
    "IP adresinin son hanesinde biraz oynama yapıp bulunduğumuz ağda \n",
    "istediğimiz aralıktaki adresleri tarayabiliriz\n",
    "\n",
    "Bu ağ C sınıfı olduğu için 8 bitlik ilk 3 kısım (192.168.1) ağ adresini ifade ediyor.\n",
    "Son kısım ağa bağlanan cihazlara ayrılıyor. \n",
    "\n",
    "Nmapin bunu anlaması için IP adresini 192.168.1.0/24 olarak değiştireceğiz\n",
    "Bu IP adresindeki ilk 24 bitin kullanılmayacağını belirtiyor.\n",
    "Böylece nmap 2 ile 254 arasındaki değerleri tarayacak.\n",
    "\n",
    "~~~"
   ]
  },
  {
   "cell_type": "code",
   "execution_count": 4,
   "metadata": {
    "collapsed": false
   },
   "outputs": [
    {
     "name": "stdout",
     "output_type": "stream",
     "text": [
      "192.168.1.0/24\n"
     ]
    }
   ],
   "source": [
    "ip = subprocess.check_output((\"hostname\", \"-I\")).decode().split(\" \")[0]\n",
    "ip = ip[:-1]+r\"0/24\"\n",
    "print(ip)"
   ]
  },
  {
   "cell_type": "markdown",
   "metadata": {},
   "source": [
    "### Ağ taraması\n",
    "~~~\n",
    "Nmap modülündeki PortScanner nesnesi ile ağda tarama yapabiliyoruz.\n",
    "Oluşturduğumuz PortScanner'in scan() metoduna IP ve port aralığımızı verdik.\n",
    "Nmap tarama yapıp sonuçları ps referansında tuttu.\n",
    "~~~"
   ]
  },
  {
   "cell_type": "code",
   "execution_count": 5,
   "metadata": {
    "collapsed": false
   },
   "outputs": [
    {
     "name": "stdout",
     "output_type": "stream",
     "text": [
      "{'tcp': {'method': 'connect', 'services': '22-443'}}\n",
      "host;hostname;hostname_type;protocol;port;name;state;product;extrainfo;reason;version;conf;cpe\r\n",
      "192.168.1.1;;;tcp;22;ssh;open;Dropbear sshd;protocol 2.0;syn-ack;0.50;10;cpe:/o:linux:linux_kernel\r\n",
      "192.168.1.1;;;tcp;23;telnet;open;Huawei HG655b DSL router telnetd;;syn-ack;;10;cpe:/h:huawei:hg655b\r\n",
      "192.168.1.1;;;tcp;80;http;open;;;syn-ack;;3;\r\n",
      "192.168.1.3;;;tcp;22;ssh;open;OpenSSH;\"Ubuntu Linux; protocol 2.0\";syn-ack;7.2p2 Ubuntu 4ubuntu2.1;10;cpe:/o:linux:linux_kernel\r\n",
      "192.168.1.3;;;tcp;80;http;open;nginx;Ubuntu;syn-ack;1.10.0;10;cpe:/o:linux:linux_kernel\r\n",
      "\n"
     ]
    }
   ],
   "source": [
    "ps = nmap.PortScanner()\n",
    "# ip\n",
    "ps.scan(ip, \"22-443\");\n",
    "print(ps.scaninfo())\n",
    "print(ps.csv())"
   ]
  },
  {
   "cell_type": "markdown",
   "metadata": {},
   "source": [
    "### Tarama sonuçlarının pandas modülü ile analizi \n",
    "~~~\n",
    "Tarama sonuçlarını daha kolay kullanabilmek için csv türüne çevirdik.\n",
    "Bu verileri pandasta kullanabilmek için ya dosya ya da buffer olarak okutmamız gerekiyor.\n",
    "Taramadan gelen değer string olduğu için io modülündeki StringIO nesnesini kullandık.\n",
    "Veriyi from_csv() metoduna uygun ayraç ile birlikte verip DataFrame oluşturduk. \n",
    "Boş verileri \"not found\" olarak değiştirdik.\n",
    "~~~"
   ]
  },
  {
   "cell_type": "code",
   "execution_count": 6,
   "metadata": {
    "collapsed": false
   },
   "outputs": [
    {
     "data": {
      "text/html": [
       "<div>\n",
       "<table border=\"1\" class=\"dataframe\">\n",
       "  <thead>\n",
       "    <tr style=\"text-align: right;\">\n",
       "      <th></th>\n",
       "      <th>hostname</th>\n",
       "      <th>hostname_type</th>\n",
       "      <th>protocol</th>\n",
       "      <th>port</th>\n",
       "      <th>name</th>\n",
       "      <th>state</th>\n",
       "      <th>product</th>\n",
       "      <th>extrainfo</th>\n",
       "      <th>reason</th>\n",
       "      <th>version</th>\n",
       "      <th>conf</th>\n",
       "      <th>cpe</th>\n",
       "    </tr>\n",
       "  </thead>\n",
       "  <tbody>\n",
       "    <tr>\n",
       "      <th>0</th>\n",
       "      <td>192.168.1.1</td>\n",
       "      <td>not found</td>\n",
       "      <td>tcp</td>\n",
       "      <td>22</td>\n",
       "      <td>ssh</td>\n",
       "      <td>open</td>\n",
       "      <td>Dropbear sshd</td>\n",
       "      <td>protocol 2.0</td>\n",
       "      <td>syn-ack</td>\n",
       "      <td>0.50</td>\n",
       "      <td>10</td>\n",
       "      <td>cpe:/o:linux:linux_kernel</td>\n",
       "    </tr>\n",
       "    <tr>\n",
       "      <th>1</th>\n",
       "      <td>192.168.1.1</td>\n",
       "      <td>not found</td>\n",
       "      <td>tcp</td>\n",
       "      <td>23</td>\n",
       "      <td>telnet</td>\n",
       "      <td>open</td>\n",
       "      <td>Huawei HG655b DSL router telnetd</td>\n",
       "      <td>not found</td>\n",
       "      <td>syn-ack</td>\n",
       "      <td>not found</td>\n",
       "      <td>10</td>\n",
       "      <td>cpe:/h:huawei:hg655b</td>\n",
       "    </tr>\n",
       "    <tr>\n",
       "      <th>2</th>\n",
       "      <td>192.168.1.1</td>\n",
       "      <td>not found</td>\n",
       "      <td>tcp</td>\n",
       "      <td>80</td>\n",
       "      <td>http</td>\n",
       "      <td>open</td>\n",
       "      <td>not found</td>\n",
       "      <td>not found</td>\n",
       "      <td>syn-ack</td>\n",
       "      <td>not found</td>\n",
       "      <td>3</td>\n",
       "      <td>not found</td>\n",
       "    </tr>\n",
       "    <tr>\n",
       "      <th>3</th>\n",
       "      <td>192.168.1.3</td>\n",
       "      <td>not found</td>\n",
       "      <td>tcp</td>\n",
       "      <td>22</td>\n",
       "      <td>ssh</td>\n",
       "      <td>open</td>\n",
       "      <td>OpenSSH</td>\n",
       "      <td>Ubuntu Linux; protocol 2.0</td>\n",
       "      <td>syn-ack</td>\n",
       "      <td>7.2p2 Ubuntu 4ubuntu2.1</td>\n",
       "      <td>10</td>\n",
       "      <td>cpe:/o:linux:linux_kernel</td>\n",
       "    </tr>\n",
       "    <tr>\n",
       "      <th>4</th>\n",
       "      <td>192.168.1.3</td>\n",
       "      <td>not found</td>\n",
       "      <td>tcp</td>\n",
       "      <td>80</td>\n",
       "      <td>http</td>\n",
       "      <td>open</td>\n",
       "      <td>nginx</td>\n",
       "      <td>Ubuntu</td>\n",
       "      <td>syn-ack</td>\n",
       "      <td>1.10.0</td>\n",
       "      <td>10</td>\n",
       "      <td>cpe:/o:linux:linux_kernel</td>\n",
       "    </tr>\n",
       "  </tbody>\n",
       "</table>\n",
       "</div>"
      ],
      "text/plain": [
       "      hostname hostname_type protocol  port    name state  \\\n",
       "0  192.168.1.1     not found      tcp    22     ssh  open   \n",
       "1  192.168.1.1     not found      tcp    23  telnet  open   \n",
       "2  192.168.1.1     not found      tcp    80    http  open   \n",
       "3  192.168.1.3     not found      tcp    22     ssh  open   \n",
       "4  192.168.1.3     not found      tcp    80    http  open   \n",
       "\n",
       "                            product                   extrainfo   reason  \\\n",
       "0                     Dropbear sshd                protocol 2.0  syn-ack   \n",
       "1  Huawei HG655b DSL router telnetd                   not found  syn-ack   \n",
       "2                         not found                   not found  syn-ack   \n",
       "3                           OpenSSH  Ubuntu Linux; protocol 2.0  syn-ack   \n",
       "4                             nginx                      Ubuntu  syn-ack   \n",
       "\n",
       "                   version  conf                        cpe  \n",
       "0                     0.50    10  cpe:/o:linux:linux_kernel  \n",
       "1                not found    10       cpe:/h:huawei:hg655b  \n",
       "2                not found     3                  not found  \n",
       "3  7.2p2 Ubuntu 4ubuntu2.1    10  cpe:/o:linux:linux_kernel  \n",
       "4                   1.10.0    10  cpe:/o:linux:linux_kernel  "
      ]
     },
     "execution_count": 6,
     "metadata": {},
     "output_type": "execute_result"
    }
   ],
   "source": [
    "df = pandas.DataFrame.from_csv(StringIO(ps.csv()), sep=\";\")\n",
    "df['hostname'] = df.index\n",
    "df.index = range(len(df))\n",
    "df = df.fillna(\"not found\")\n",
    "df.head()"
   ]
  },
  {
   "cell_type": "markdown",
   "metadata": {},
   "source": [
    "### Verilerin görselleştirilmesi\n",
    "~~~\n",
    "DataFrame'deki herhangi bir sütunun plot() metodu ile istediğimiz türden grafiğini çizdirebiliriz.\n",
    "Bu örnekte ağda tesbit edilen açık portların ve her IPdeki port sayısının yüzde grafiğini çizdireceğiz.\n",
    "~~~"
   ]
  },
  {
   "cell_type": "code",
   "execution_count": 7,
   "metadata": {
    "collapsed": false
   },
   "outputs": [
    {
     "data": {
      "text/plain": [
       "<matplotlib.axes._subplots.AxesSubplot at 0x7fe00382d9e8>"
      ]
     },
     "execution_count": 7,
     "metadata": {},
     "output_type": "execute_result"
    },
    {
     "data": {
      "image/png": "[encoded data removed]",
      "text/plain": [
       "<matplotlib.figure.Figure at 0x7fe0310cc240>"
      ]
     },
     "metadata": {},
     "output_type": "display_data"
    }
   ],
   "source": [
    "df.name.value_counts().plot.pie(autopct=\"%.2f\", colors=[\"lightgreen\", \"cyan\", \"pink\", \"r\", \"g\"], figsize=(5, 5), fontsize=12)"
   ]
  },
  {
   "cell_type": "code",
   "execution_count": 8,
   "metadata": {
    "collapsed": false
   },
   "outputs": [
    {
     "data": {
      "text/plain": [
       "<matplotlib.axes._subplots.AxesSubplot at 0x7fe003791358>"
      ]
     },
     "execution_count": 8,
     "metadata": {},
     "output_type": "execute_result"
    },
    {
     "data": {
      "image/png": "[encoded data removed]",
      "text/plain": [
       "<matplotlib.figure.Figure at 0x7fe02cdb3390>"
      ]
     },
     "metadata": {},
     "output_type": "display_data"
    }
   ],
   "source": [
    "df.hostname.value_counts().plot.bar(color=['cyan', 'lightgreen'])"
   ]
  },
  {
   "cell_type": "markdown",
   "metadata": {},
   "source": [
    "# Veritabanı\n",
    "~~~\n",
    "Sqlite3 pythonla birlikte gelen kullanıcı bilgisi gerektirmeyen bir veritabanı.\n",
    "Veritabanımızı connect() metoduna veritabanının ismini girerek oluşturduk.\n",
    "Veritabanı işlemlerini gerçekleştirmek için cursor() metodunu kullanarak bağlantı nesnesi oluşturduk.\n",
    "\n",
    "~~~"
   ]
  },
  {
   "cell_type": "code",
   "execution_count": 9,
   "metadata": {
    "collapsed": false
   },
   "outputs": [],
   "source": [
    "db = sqlite3.connect(\"nmapsql.db\")\n",
    "conn = db.cursor()"
   ]
  },
  {
   "cell_type": "markdown",
   "metadata": {},
   "source": [
    "### Veri tabanını oluşturma\n",
    "~~~\n",
    "Veritabanında sorguları çalıştırmak için conn nesnesinin execute() metodunu kullanıyoruz.\n",
    "DataFrame'deki sütun isimleri ile veritabanında scan adında bir tablo oluşturduk\n",
    "Değişiklikleri kaydetmek için commit() metodunu kullandık.\n",
    "~~~"
   ]
  },
  {
   "cell_type": "code",
   "execution_count": 10,
   "metadata": {
    "collapsed": false
   },
   "outputs": [
    {
     "name": "stdout",
     "output_type": "stream",
     "text": [
      "CREATE TABLE scan(num text, hostname text, hostname_type text, protocol text, port text, name text, state text, product text, extrainfo text, reason text, version text, conf text, cpe text)\n"
     ]
    }
   ],
   "source": [
    "conn.execute(\"DROP TABLE IF EXISTS scan\")\n",
    "t_sql = \"CREATE TABLE scan(num text, \"+\" text, \".join(df.columns)+ \" text)\"\n",
    "x = conn.execute(t_sql)\n",
    "db.commit()\n",
    "print(t_sql)"
   ]
  },
  {
   "cell_type": "markdown",
   "metadata": {},
   "source": [
    "### Veritabanına yazma\n",
    "~~~\n",
    "DataFrame'deki verileri csv formatına çevirdik.\n",
    "Sütun isimlerinin yazdığı ilk satır ve boş olan son satır haricindekileri \",\" ile ayırdık.\n",
    "Bu sayede veriler veritabanına yazmaya uygun hale geldi.\n",
    "DataFrame'deki sütun sayısı adetince \"?\" ile veritabanına veri giriş sorgusu oluşturduk.\n",
    "Verileri toplu halde girmek için executemany() metoduna sql sorgusu ve veri listesini verdik.\n",
    "\n",
    "~~~"
   ]
  },
  {
   "cell_type": "code",
   "execution_count": 11,
   "metadata": {
    "collapsed": false
   },
   "outputs": [],
   "source": [
    "data = list(map(lambda x: x.split(\",\"), df.to_csv().split(\"\\n\")[1:-1]))\n",
    "i_sql = \"insert into scan VALUES(\"+\",\".join(\"?\" for _ in range(len(df.columns)))+\",?)\"\n",
    "conn.executemany(i_sql, data)\n",
    "db.commit()"
   ]
  },
  {
   "cell_type": "markdown",
   "metadata": {},
   "source": [
    "### Veritabanından okuma"
   ]
  },
  {
   "cell_type": "code",
   "execution_count": 26,
   "metadata": {
    "collapsed": false,
    "scrolled": false
   },
   "outputs": [
    {
     "data": {
      "text/plain": [
       "[('0',\n",
       "  '192.168.1.1',\n",
       "  'not found',\n",
       "  'tcp',\n",
       "  '22',\n",
       "  'ssh',\n",
       "  'open',\n",
       "  'Dropbear sshd',\n",
       "  'protocol 2.0',\n",
       "  'syn-ack',\n",
       "  '0.50',\n",
       "  '10',\n",
       "  'cpe:/o:linux:linux_kernel'),\n",
       " ('1',\n",
       "  '192.168.1.1',\n",
       "  'not found',\n",
       "  'tcp',\n",
       "  '23',\n",
       "  'telnet',\n",
       "  'open',\n",
       "  'Huawei HG655b DSL router telnetd',\n",
       "  'not found',\n",
       "  'syn-ack',\n",
       "  'not found',\n",
       "  '10',\n",
       "  'cpe:/h:huawei:hg655b')]"
      ]
     },
     "execution_count": 26,
     "metadata": {},
     "output_type": "execute_result"
    }
   ],
   "source": [
    "conn.execute(\"select * from scan\")\n",
    "conn.fetchall()[:2]"
   ]
  },
  {
   "cell_type": "markdown",
   "metadata": {},
   "source": [
    "### Herhangi bir sütuna göre veri okuma"
   ]
  },
  {
   "cell_type": "code",
   "execution_count": 27,
   "metadata": {
    "collapsed": true
   },
   "outputs": [],
   "source": [
    "def get_by_port(p_num):\n",
    "    f_sql = \"select * from scan as s where s.port == {}\".format(p_num)\n",
    "    print(f_sql+\"\\n\")\n",
    "    conn.execute(f_sql)\n",
    "    return list(conn.fetchall())"
   ]
  },
  {
   "cell_type": "code",
   "execution_count": 28,
   "metadata": {
    "collapsed": false
   },
   "outputs": [
    {
     "name": "stdout",
     "output_type": "stream",
     "text": [
      "select * from scan as s where s.port == 22\n",
      "\n",
      "('0', '192.168.1.1', 'not found', 'tcp', '22', 'ssh', 'open', 'Dropbear sshd', 'protocol 2.0', 'syn-ack', '0.50', '10', 'cpe:/o:linux:linux_kernel')\n",
      "\n",
      "('3', '192.168.1.3', 'not found', 'tcp', '22', 'ssh', 'open', 'OpenSSH', 'Ubuntu Linux; protocol 2.0', 'syn-ack', '7.2p2 Ubuntu 4ubuntu2.1', '10', 'cpe:/o:linux:linux_kernel')\n",
      "Gelen veri sayısı: 2\n"
     ]
    }
   ],
   "source": [
    "data_list = get_by_port(22)\n",
    "print(*data_list, sep=\"\\n\\n\")\n",
    "print(\"Gelen veri sayısı: {}\".format(len(data_list)))"
   ]
  },
  {
   "cell_type": "markdown",
   "metadata": {},
   "source": [
    "### SQL Injection\n",
    "~~~\n",
    "Yukarıda yaptığımız şekilde veritabanını sorgulamak pratik gözükse de\n",
    "aslında çok büyük açıklıklar barındırıyor.\n",
    "\n",
    "Kullanıcıya SQL sorgusunda rol verildiği için sorgu istenmeyen karakterlere açık hale geldi.\n",
    "' \" ; tarzı karakterlerle sql sorgusu parçalanıp şekillendirilebilir.\n",
    "\n",
    "Aşağıda sql sorgusunda ufak bir değişiklikle veritabanındaki tüm bilgilere erişildi.\n",
    "Açık bir kez bulunduktan sonra açığı bulan veritabanını tamamen silmeye kadar gidebilir.\n",
    "~~~"
   ]
  },
  {
   "cell_type": "code",
   "execution_count": 29,
   "metadata": {
    "collapsed": false
   },
   "outputs": [
    {
     "name": "stdout",
     "output_type": "stream",
     "text": [
      "select * from scan as s where s.port == 'heklendin' or '6=6'\n",
      "\n",
      "Gelen veri sayısı: 5\n"
     ]
    }
   ],
   "source": [
    "bad_string = \"'heklendin' or '6=6'\"\n",
    "print(\"Gelen veri sayısı: {}\".format(len(get_by_port(bad_string))))"
   ]
  },
  {
   "cell_type": "markdown",
   "metadata": {},
   "source": [
    "~~~\n",
    "Bu açığın önüne geçmek için SQL sorgusu ile ilgili işlemleri kullanıcıya değil,\n",
    "veritabanı sistemine bırakmalıyız.\n",
    "~~~"
   ]
  },
  {
   "cell_type": "code",
   "execution_count": 30,
   "metadata": {
    "collapsed": true
   },
   "outputs": [],
   "source": [
    "def get_by_port_safe(p_num):\n",
    "    conn.execute(\"select * from scan as s where s.port=?\", (p_num,))\n",
    "    return list(conn.fetchall())"
   ]
  },
  {
   "cell_type": "markdown",
   "metadata": {},
   "source": [
    "~~~\n",
    "Veritabanı sistemin kötü sorguyu çalıştırmamasını umuyoruz.\n",
    "~~~"
   ]
  },
  {
   "cell_type": "code",
   "execution_count": 31,
   "metadata": {
    "collapsed": false
   },
   "outputs": [
    {
     "name": "stdout",
     "output_type": "stream",
     "text": [
      "[]\n"
     ]
    }
   ],
   "source": [
    "print(get_by_port_safe(bad_string))"
   ]
  },
  {
   "cell_type": "markdown",
   "metadata": {},
   "source": [
    "### NoSQL Veritabanı\n",
    "~~~\n",
    "Verileri anahtar-değer şeklinde iç içe tutar.\n",
    "Birbiriyle alakalı tüm veriler tek bir satır(document) olarak tutulur.\n",
    "\n",
    "SQL veri tabanları dikey, NoSQL veri tabanları yatay büyür.\n",
    "~~~"
   ]
  },
  {
   "cell_type": "code",
   "execution_count": 32,
   "metadata": {
    "collapsed": true
   },
   "outputs": [],
   "source": [
    "from pymongo import MongoClient"
   ]
  },
  {
   "cell_type": "markdown",
   "metadata": {},
   "source": [
    "### Veritabanı bağlantısı\n",
    "~~~\n",
    "Veritabanı ile bağlantı kurmak için MongoClient nesnesi oluşturduk.\n",
    "Bu nesneye hangi host ve portta çalışacağı bilgisini verebiliriz. \n",
    "Öntanımlı olarak MongoClient('localhost', 27017)\n",
    "\n",
    "client.veritabanı-adı şeklinde MongoDBde veritabanı oluşturduk.\n",
    "Ardından oluşturulan veritabanı içinde bir koleksiyon (tablo) oluşturduk.\n",
    "Daha önce o isimde bir veritabanı veya koleksiyon oluşturulmamış ise mongodb bizim için oluşturuyor.\n",
    "Koleksiyonda tutacağımız her bir girdiye döküman deniyor.\n",
    "~~~"
   ]
  },
  {
   "cell_type": "code",
   "execution_count": 33,
   "metadata": {
    "collapsed": false
   },
   "outputs": [],
   "source": [
    "client = MongoClient()\n",
    "db = client.nmapdb\n",
    "table = db.scan"
   ]
  },
  {
   "cell_type": "markdown",
   "metadata": {},
   "source": [
    "### Veri ekleme\n",
    "~~~\n",
    "NoSQL bir veritabanına veri eklemek için sözlük veya BSON(JSON) veri yapılarını kullanmamız gerekiyor.\n",
    "Koleksiyonun insert(), insert_one(), insert_many() metodları ekleme işlemini gerçekleştiriyor. Verileri sorunsuzca girebilmek için anahtarları ve değerleri string tipine çeviren basit bir fonksiyon yazdık.\n",
    "~~~"
   ]
  },
  {
   "cell_type": "code",
   "execution_count": 35,
   "metadata": {
    "collapsed": true
   },
   "outputs": [],
   "source": [
    "_id = table.insert_one(df.to_dict()).inserted_id"
   ]
  },
  {
   "cell_type": "markdown",
   "metadata": {},
   "source": [
    "### Veri çekme\n",
    "~~~\n",
    "MongoDBden veri okuma işlemi ilişkili veritabanlarına göre daha basit.\n",
    "~~~"
   ]
  },
  {
   "cell_type": "code",
   "execution_count": 36,
   "metadata": {
    "collapsed": false,
    "scrolled": true
   },
   "outputs": [
    {
     "name": "stdout",
     "output_type": "stream",
     "text": [
      "[{'name': {'3': 'http', '2': 'http', '0': 'ssh', '1': 'ssh'}, 'version': {'3': '2.4.18', '2': '2.4.18', '0': '7.2p2 Ubuntu 4ubuntu2.1', '1': '7.2p2 Ubuntu 4ubuntu2.1'}, 'hostname': {'3': '127.0.0.1', '2': '127.0.0.1', '0': '127.0.0.1', '1': '127.0.0.1'}, 'hostname_type': {'3': 'PTR', '2': 'user', '0': 'user', '1': 'PTR'}, 'extrainfo': {'3': 'not found', '2': 'not found', '0': 'Ubuntu Linux; protocol 2.0', '1': 'Ubuntu Linux; protocol 2.0'}, 'state': {'3': 'open', '2': 'open', '0': 'open', '1': 'open'}, 'port': {'3': '80', '2': '80', '0': '22', '1': '22'}, 'protocol': {'3': 'tcp', '2': 'tcp', '0': 'tcp', '1': 'tcp'}, 'cpe': {'3': 'cpe:/a:apache:http_server:2.4.18', '2': 'cpe:/a:apache:http_server:2.4.18', '0': 'cpe:/o:linux:linux_kernel', '1': 'cpe:/o:linux:linux_kernel'}, 'reason': {'3': 'syn-ack', '2': 'syn-ack', '0': 'syn-ack', '1': 'syn-ack'}, 'product': {'3': 'Apache httpd', '2': 'Apache httpd', '0': 'OpenSSH', '1': 'OpenSSH'}, 'conf': {'3': '10', '2': '10', '0': '10', '1': '10'}, '_id': ObjectId('585aa113bc54f4166ad6d751')}, {'version': {'2': '2.4.18', '3': '2.4.18', '0': '7.2p2 Ubuntu 4ubuntu2.1', '1': '7.2p2 Ubuntu 4ubuntu2.1'}, 'hostname': {'2': '127.0.0.1', '3': '127.0.0.1', '0': '127.0.0.1', '1': '127.0.0.1'}, 'name': {'2': 'http', '3': 'http', '0': 'ssh', '1': 'ssh'}, 'reason': {'2': 'syn-ack', '3': 'syn-ack', '0': 'syn-ack', '1': 'syn-ack'}, 'state': {'2': 'open', '3': 'open', '0': 'open', '1': 'open'}, 'port': {'2': '80', '3': '80', '0': '22', '1': '22'}, 'protocol': {'2': 'tcp', '3': 'tcp', '0': 'tcp', '1': 'tcp'}, 'cpe': {'2': 'cpe:/a:apache:http_server:2.4.18', '3': 'cpe:/a:apache:http_server:2.4.18', '0': 'cpe:/o:linux:linux_kernel', '1': 'cpe:/o:linux:linux_kernel'}, 'extrainfo': {'2': 'not found', '3': 'not found', '0': 'Ubuntu Linux; protocol 2.0', '1': 'Ubuntu Linux; protocol 2.0'}, 'product': {'2': 'Apache httpd', '3': 'Apache httpd', '0': 'OpenSSH', '1': 'OpenSSH'}, '_id': ObjectId('585abeb3bc54f40c8066928d'), 'conf': {'2': '10', '3': '10', '0': '10', '1': '10'}, 'hostname_type': {'2': 'user', '3': 'PTR', '0': 'user', '1': 'PTR'}}]\n"
     ]
    }
   ],
   "source": [
    "data_list = list(table.find({\"product.0\":\"OpenSSH\"}))\n",
    "print(data_list)"
   ]
  },
  {
   "cell_type": "markdown",
   "metadata": {},
   "source": [
    "### MapReduce\n",
    "~~~\n",
    "Google, Facebook, Twitter gibi çok büyük verilerle uğraşan kurumlar için MapReduce teknolojisi vazgeçilmezdir.\n",
    "~~~\n",
    "![MapReduce](map_reduce_algorithm.jpg)\n",
    "~~~\n",
    "Basitçe açıklamak gerekirse:\n",
    "Map verilerin daha küçük parçalar haline getirilmesine\n",
    "Reduce bu parçaların herhangi bir ifadeye göre filtrelenmesine denir. Örneğin toplama, mantıksal sorgulama.\n",
    "~~~"
   ]
  },
  {
   "cell_type": "markdown",
   "metadata": {},
   "source": [
    "<span style=\"font-size:16px;padding-right:0.1px;\">\n",
    "    [Bu](https://www.cvedetails.com/vulnerability-list/vendor_id-45/product_id-66/version_id-199589/Apache-Http-Server-2.4.18.html) linke bakacak olursanız apache http serverin 2.4.18 sürümünde bir açık bulunmakta.\n",
    "Tam amacına yönelik olmasa da MapReduce tekniğini veritabanındaki bu açığa sahip verileri ayıklamak için kullanabiliriz.\n",
    "</span>"
   ]
  },
  {
   "cell_type": "markdown",
   "metadata": {},
   "source": [
    "~~~\n",
    "Map ve Reduce işlemleri için birer adet javascript fonksiyonu yazmamız gerekiyor.\n",
    "Pythonda bunu bson.code.Code() modülü sayesinde yapabiliyoruz.\n",
    "~~~"
   ]
  },
  {
   "cell_type": "code",
   "execution_count": 40,
   "metadata": {
    "collapsed": true
   },
   "outputs": [],
   "source": [
    "mapper = Code(\"\"\"\n",
    "function () {\n",
    "    for (var key in this.cpe) {\n",
    "        \n",
    "        if(this.cpe[key].contains(\"apache:http_server\")){\n",
    "             apache_version = this.cpe[key].slice(-6);\n",
    "             int_version = parseInt(apache_version[0]+apache_version[2]+apache_version.slice(-2));\n",
    "             \n",
    "             vulnerable = int_version <= 2418 ?  \"hacklenebilir\" : \"hacklenemez\";\n",
    "            emit(this._id, vulnerable);\n",
    "             \n",
    "         }\n",
    "    }\n",
    "};\n",
    "\"\"\")\n",
    "\n",
    "reducer = Code(\"\"\"\n",
    "function (key, values) {\n",
    "    return values[0];\n",
    "};\n",
    "\"\"\")"
   ]
  },
  {
   "cell_type": "markdown",
   "metadata": {},
   "source": [
    "~~~\n",
    "'mapper' fonksiyonu içindeki this ifadesi veritabanında eriştiğimiz herbir veriyi ifade ediyor.\n",
    "Verinin cpe kısmındaki değerler içinde 'apache:http_server'leri bulduk ve bu servislerden\n",
    "sürümleri 2.4.18den düşük olanları hacklenebilir diğerlerini hacklenemez olarak etiketledik.\n",
    "emit() fonksiyonu ile verinin idsini ve etiketini gönderdik.\n",
    "\n",
    "'reducer' fonksiyonu ile gelen gelen veri listesinin sadece ilk elemanını döndürdük.\n",
    "\n",
    "Ardıdan MapReduce işlemi için tanımladığımız bu fonksiyonları tablonun map_reduce() metoduna verdik.\n",
    "Metod tabloyu map,reduce fonksiyonlarında belirttiğimiz şeklinde küçülttü ve değer olarak döndürdü.\n",
    "Bu sayede çok daha az sayıda veri ile işlem yapacağız.\n",
    "\n",
    "~~~"
   ]
  },
  {
   "cell_type": "code",
   "execution_count": 41,
   "metadata": {
    "collapsed": false
   },
   "outputs": [
    {
     "name": "stdout",
     "output_type": "stream",
     "text": [
      "<class 'pymongo.collection.Collection'>\n",
      "{'value': 'hacklenebilir', '_id': ObjectId('585aa113bc54f4166ad6d751')}\n",
      "{'value': 'hacklenebilir', '_id': ObjectId('585abeb3bc54f40c8066928d')}\n",
      "{'value': 'hacklenebilir', '_id': ObjectId('585abeefbc54f40c8066928f')}\n",
      "{'value': 'hacklenebilir', '_id': ObjectId('585ad6dfbc54f40c80669291')}\n",
      "{'value': 'hacklenebilir', '_id': ObjectId('585ae9a0bc54f40c80669292')}\n",
      "{'value': 'hacklenebilir', '_id': ObjectId('585aef0cbc54f40c80669294')}\n"
     ]
    }
   ],
   "source": [
    "result = table.map_reduce(mapper, reducer, \"results\")\n",
    "print(type(result))\n",
    "for row in result.find():\n",
    "    print(row)"
   ]
  },
  {
   "cell_type": "code",
   "execution_count": null,
   "metadata": {
    "collapsed": true
   },
   "outputs": [],
   "source": []
  }
 ],
 "metadata": {
  "kernelspec": {
   "display_name": "Python 3",
   "language": "python",
   "name": "python3"
  },
  "language_info": {
   "codemirror_mode": {
    "name": "ipython",
    "version": 3
   },
   "file_extension": ".py",
   "mimetype": "text/x-python",
   "name": "python",
   "nbconvert_exporter": "python",
   "pygments_lexer": "ipython3",
   "version": "3.5.2"
  }
 },
 "nbformat": 4,
 "nbformat_minor": 2
}
